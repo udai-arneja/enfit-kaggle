{
 "cells": [
  {
   "cell_type": "code",
   "execution_count": 1,
   "id": "113f78eb",
   "metadata": {
    "execution": {
     "iopub.execute_input": "2023-12-18T10:56:18.236852Z",
     "iopub.status.busy": "2023-12-18T10:56:18.236419Z",
     "iopub.status.idle": "2023-12-18T10:56:19.306968Z",
     "shell.execute_reply": "2023-12-18T10:56:19.305163Z"
    },
    "papermill": {
     "duration": 1.078711,
     "end_time": "2023-12-18T10:56:19.309997",
     "exception": false,
     "start_time": "2023-12-18T10:56:18.231286",
     "status": "completed"
    },
    "tags": []
   },
   "outputs": [],
   "source": [
    "import enefit\n",
    "import pandas as pd\n",
    "from datetime import datetime\n",
    "import statistics"
   ]
  },
  {
   "cell_type": "code",
   "execution_count": 2,
   "id": "a347602e",
   "metadata": {
    "execution": {
     "iopub.execute_input": "2023-12-18T10:56:19.319146Z",
     "iopub.status.busy": "2023-12-18T10:56:19.317749Z",
     "iopub.status.idle": "2023-12-18T10:56:48.319795Z",
     "shell.execute_reply": "2023-12-18T10:56:48.318534Z"
    },
    "papermill": {
     "duration": 29.009456,
     "end_time": "2023-12-18T10:56:48.322784",
     "exception": false,
     "start_time": "2023-12-18T10:56:19.313328",
     "status": "completed"
    },
    "tags": []
   },
   "outputs": [],
   "source": [
    "# pulling in data\n",
    "trainingData = pd.read_csv(\"/kaggle/input/predict-energy-behavior-of-prosumers/train.csv\");\n",
    "clientData = pd.read_csv(\"/kaggle/input/predict-energy-behavior-of-prosumers/client.csv\");\n",
    "elecPriceData = pd.read_csv(\"/kaggle/input/predict-energy-behavior-of-prosumers/electricity_prices.csv\");\n",
    "foreWeatherData = pd.read_csv(\"/kaggle/input/predict-energy-behavior-of-prosumers/forecast_weather.csv\");\n",
    "gasPriceData = pd.read_csv(\"/kaggle/input/predict-energy-behavior-of-prosumers/gas_prices.csv\");\n",
    "histWeatherData = pd.read_csv(\"/kaggle/input/predict-energy-behavior-of-prosumers/historical_weather.csv\");\n",
    "weatherToCountyMap = pd.read_csv(\"/kaggle/input/predict-energy-behavior-of-prosumers/weather_station_to_county_mapping.csv\");"
   ]
  },
  {
   "cell_type": "code",
   "execution_count": 3,
   "id": "2891c707",
   "metadata": {
    "execution": {
     "iopub.execute_input": "2023-12-18T10:56:48.330488Z",
     "iopub.status.busy": "2023-12-18T10:56:48.330097Z",
     "iopub.status.idle": "2023-12-18T10:56:48.335012Z",
     "shell.execute_reply": "2023-12-18T10:56:48.333847Z"
    },
    "papermill": {
     "duration": 0.011748,
     "end_time": "2023-12-18T10:56:48.337637",
     "exception": false,
     "start_time": "2023-12-18T10:56:48.325889",
     "status": "completed"
    },
    "tags": []
   },
   "outputs": [],
   "source": [
    "# common variables\n",
    "timeName = 'datetime'\n",
    "date_format = '%Y-%m-%d %H:%M:%S'"
   ]
  },
  {
   "cell_type": "code",
   "execution_count": 4,
   "id": "fa747fc9",
   "metadata": {
    "execution": {
     "iopub.execute_input": "2023-12-18T10:56:48.345192Z",
     "iopub.status.busy": "2023-12-18T10:56:48.344809Z",
     "iopub.status.idle": "2023-12-18T10:57:35.182395Z",
     "shell.execute_reply": "2023-12-18T10:57:35.180833Z"
    },
    "papermill": {
     "duration": 46.847499,
     "end_time": "2023-12-18T10:57:35.188202",
     "exception": false,
     "start_time": "2023-12-18T10:56:48.340703",
     "status": "completed"
    },
    "tags": []
   },
   "outputs": [
    {
     "data": {
      "text/html": [
       "<div>\n",
       "<style scoped>\n",
       "    .dataframe tbody tr th:only-of-type {\n",
       "        vertical-align: middle;\n",
       "    }\n",
       "\n",
       "    .dataframe tbody tr th {\n",
       "        vertical-align: top;\n",
       "    }\n",
       "\n",
       "    .dataframe thead th {\n",
       "        text-align: right;\n",
       "    }\n",
       "</style>\n",
       "<table border=\"1\" class=\"dataframe\">\n",
       "  <thead>\n",
       "    <tr style=\"text-align: right;\">\n",
       "      <th></th>\n",
       "      <th>datetime</th>\n",
       "      <th>averagedTarget</th>\n",
       "    </tr>\n",
       "  </thead>\n",
       "  <tbody>\n",
       "    <tr>\n",
       "      <th>0</th>\n",
       "      <td>2021-09-01 00:00:00</td>\n",
       "      <td>162.821066</td>\n",
       "    </tr>\n",
       "    <tr>\n",
       "      <th>1</th>\n",
       "      <td>2021-09-01 01:00:00</td>\n",
       "      <td>158.007623</td>\n",
       "    </tr>\n",
       "    <tr>\n",
       "      <th>2</th>\n",
       "      <td>2021-09-01 02:00:00</td>\n",
       "      <td>157.891287</td>\n",
       "    </tr>\n",
       "    <tr>\n",
       "      <th>3</th>\n",
       "      <td>2021-09-01 03:00:00</td>\n",
       "      <td>155.967221</td>\n",
       "    </tr>\n",
       "    <tr>\n",
       "      <th>4</th>\n",
       "      <td>2021-09-01 04:00:00</td>\n",
       "      <td>158.767344</td>\n",
       "    </tr>\n",
       "    <tr>\n",
       "      <th>...</th>\n",
       "      <td>...</td>\n",
       "      <td>...</td>\n",
       "    </tr>\n",
       "    <tr>\n",
       "      <th>15307</th>\n",
       "      <td>2023-05-31 19:00:00</td>\n",
       "      <td>302.997677</td>\n",
       "    </tr>\n",
       "    <tr>\n",
       "      <th>15308</th>\n",
       "      <td>2023-05-31 20:00:00</td>\n",
       "      <td>269.585538</td>\n",
       "    </tr>\n",
       "    <tr>\n",
       "      <th>15309</th>\n",
       "      <td>2023-05-31 21:00:00</td>\n",
       "      <td>257.369131</td>\n",
       "    </tr>\n",
       "    <tr>\n",
       "      <th>15310</th>\n",
       "      <td>2023-05-31 22:00:00</td>\n",
       "      <td>247.781654</td>\n",
       "    </tr>\n",
       "    <tr>\n",
       "      <th>15311</th>\n",
       "      <td>2023-05-31 23:00:00</td>\n",
       "      <td>227.505315</td>\n",
       "    </tr>\n",
       "  </tbody>\n",
       "</table>\n",
       "<p>15312 rows × 2 columns</p>\n",
       "</div>"
      ],
      "text/plain": [
       "                  datetime  averagedTarget\n",
       "0      2021-09-01 00:00:00      162.821066\n",
       "1      2021-09-01 01:00:00      158.007623\n",
       "2      2021-09-01 02:00:00      157.891287\n",
       "3      2021-09-01 03:00:00      155.967221\n",
       "4      2021-09-01 04:00:00      158.767344\n",
       "...                    ...             ...\n",
       "15307  2023-05-31 19:00:00      302.997677\n",
       "15308  2023-05-31 20:00:00      269.585538\n",
       "15309  2023-05-31 21:00:00      257.369131\n",
       "15310  2023-05-31 22:00:00      247.781654\n",
       "15311  2023-05-31 23:00:00      227.505315\n",
       "\n",
       "[15312 rows x 2 columns]"
      ]
     },
     "execution_count": 4,
     "metadata": {},
     "output_type": "execute_result"
    }
   ],
   "source": [
    "# averages of target consumption/production per county across the day\n",
    "averagedData = pd.DataFrame(columns=[timeName, 'averagedTarget'])\n",
    "\n",
    "rowIndex = 0\n",
    "while rowIndex < len(trainingData):\n",
    "    timeStamp = trainingData[timeName][rowIndex]\n",
    "    endRowIndex = rowIndex\n",
    "    while endRowIndex < len(trainingData) and trainingData[timeName][endRowIndex] == timeStamp:\n",
    "        endRowIndex += 1\n",
    "    \n",
    "    average = statistics.mean(trainingData['target'][rowIndex:endRowIndex])\n",
    "    newRow = [{timeName:timeStamp, 'averagedTarget': average}]\n",
    "    averagedData = pd.concat([averagedData, pd.DataFrame(newRow)], ignore_index=True)\n",
    "    currDataTime = datetime.strptime(timeStamp, date_format)\n",
    "    rowIndex = endRowIndex\n",
    "    \n",
    "\n",
    "averagedData"
   ]
  },
  {
   "cell_type": "code",
   "execution_count": 5,
   "id": "8fcabe2b",
   "metadata": {
    "execution": {
     "iopub.execute_input": "2023-12-18T10:57:35.197388Z",
     "iopub.status.busy": "2023-12-18T10:57:35.196417Z",
     "iopub.status.idle": "2023-12-18T10:57:35.604560Z",
     "shell.execute_reply": "2023-12-18T10:57:35.603663Z"
    },
    "papermill": {
     "duration": 0.415599,
     "end_time": "2023-12-18T10:57:35.607082",
     "exception": false,
     "start_time": "2023-12-18T10:57:35.191483",
     "status": "completed"
    },
    "tags": []
   },
   "outputs": [
    {
     "data": {
      "text/plain": [
       "<Axes: xlabel='datetime'>"
      ]
     },
     "execution_count": 5,
     "metadata": {},
     "output_type": "execute_result"
    },
    {
     "data": {
      "image/png": "[encoded data removed]",
      "text/plain": [
       "<Figure size 640x480 with 1 Axes>"
      ]
     },
     "metadata": {},
     "output_type": "display_data"
    }
   ],
   "source": [
    "averagedData[0:30].plot(x='datetime', y='averagedTarget', style='-')"
   ]
  }
 ],
 "metadata": {
  "kaggle": {
   "accelerator": "none",
   "dataSources": [
    {
     "databundleVersionId": 7292407,
     "sourceId": 57236,
     "sourceType": "competition"
    }
   ],
   "dockerImageVersionId": 30626,
   "isGpuEnabled": false,
   "isInternetEnabled": false,
   "language": "python",
   "sourceType": "notebook"
  },
  "kernelspec": {
   "display_name": "Python 3",
   "language": "python",
   "name": "python3"
  },
  "language_info": {
   "codemirror_mode": {
    "name": "ipython",
    "version": 3
   },
   "file_extension": ".py",
   "mimetype": "text/x-python",
   "name": "python",
   "nbconvert_exporter": "python",
   "pygments_lexer": "ipython3",
   "version": "3.10.12"
  },
  "papermill": {
   "default_parameters": {},
   "duration": 83.438276,
   "end_time": "2023-12-18T10:57:36.233324",
   "environment_variables": {},
   "exception": null,
   "input_path": "__notebook__.ipynb",
   "output_path": "__notebook__.ipynb",
   "parameters": {},
   "start_time": "2023-12-18T10:56:12.795048",
   "version": "2.4.0"
  }
 },
 "nbformat": 4,
 "nbformat_minor": 5
}
