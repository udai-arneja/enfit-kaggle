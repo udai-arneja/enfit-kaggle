{
 "cells": [
  {
   "cell_type": "code",
   "execution_count": 1,
   "id": "17c26a44",
   "metadata": {
    "execution": {
     "iopub.execute_input": "2023-12-21T18:12:46.856661Z",
     "iopub.status.busy": "2023-12-21T18:12:46.856171Z",
     "iopub.status.idle": "2023-12-21T18:12:48.615618Z",
     "shell.execute_reply": "2023-12-21T18:12:48.614513Z"
    },
    "papermill": {
     "duration": 1.770671,
     "end_time": "2023-12-21T18:12:48.618534",
     "exception": false,
     "start_time": "2023-12-21T18:12:46.847863",
     "status": "completed"
    },
    "tags": []
   },
   "outputs": [],
   "source": [
    "import enefit\n",
    "import pandas as pd\n",
    "from datetime import datetime\n",
    "import statistics\n",
    "import matplotlib.pyplot as plt\n",
    "from sklearn import preprocessing"
   ]
  },
  {
   "cell_type": "code",
   "execution_count": 2,
   "id": "d1ab38b4",
   "metadata": {
    "execution": {
     "iopub.execute_input": "2023-12-21T18:12:48.632770Z",
     "iopub.status.busy": "2023-12-21T18:12:48.632200Z",
     "iopub.status.idle": "2023-12-21T18:13:16.473006Z",
     "shell.execute_reply": "2023-12-21T18:13:16.471805Z"
    },
    "papermill": {
     "duration": 27.850908,
     "end_time": "2023-12-21T18:13:16.475784",
     "exception": false,
     "start_time": "2023-12-21T18:12:48.624876",
     "status": "completed"
    },
    "tags": []
   },
   "outputs": [],
   "source": [
    "# pulling in data\n",
    "trainingData = pd.read_csv(\"/kaggle/input/predict-energy-behavior-of-prosumers/train.csv\");\n",
    "clientData = pd.read_csv(\"/kaggle/input/predict-energy-behavior-of-prosumers/client.csv\");\n",
    "elecPriceData = pd.read_csv(\"/kaggle/input/predict-energy-behavior-of-prosumers/electricity_prices.csv\");\n",
    "foreWeatherData = pd.read_csv(\"/kaggle/input/predict-energy-behavior-of-prosumers/forecast_weather.csv\");\n",
    "gasPriceData = pd.read_csv(\"/kaggle/input/predict-energy-behavior-of-prosumers/gas_prices.csv\");\n",
    "histWeatherData = pd.read_csv(\"/kaggle/input/predict-energy-behavior-of-prosumers/historical_weather.csv\");\n",
    "weatherToCountyMap = pd.read_csv(\"/kaggle/input/predict-energy-behavior-of-prosumers/weather_station_to_county_mapping.csv\");"
   ]
  },
  {
   "cell_type": "code",
   "execution_count": 3,
   "id": "3bef0829",
   "metadata": {
    "execution": {
     "iopub.execute_input": "2023-12-21T18:13:16.490644Z",
     "iopub.status.busy": "2023-12-21T18:13:16.489558Z",
     "iopub.status.idle": "2023-12-21T18:13:16.495530Z",
     "shell.execute_reply": "2023-12-21T18:13:16.494479Z"
    },
    "papermill": {
     "duration": 0.016182,
     "end_time": "2023-12-21T18:13:16.498144",
     "exception": false,
     "start_time": "2023-12-21T18:13:16.481962",
     "status": "completed"
    },
    "tags": []
   },
   "outputs": [],
   "source": [
    "# common variables\n",
    "datetimeColName = 'datetime'\n",
    "timeColName = 'time'\n",
    "date_time_format = '%Y-%m-%d %H:%M:%S'\n",
    "time_format = '%H'\n",
    "date_format = '%Y-%m-%d'"
   ]
  },
  {
   "cell_type": "code",
   "execution_count": 4,
   "id": "52855519",
   "metadata": {
    "execution": {
     "iopub.execute_input": "2023-12-21T18:13:16.511782Z",
     "iopub.status.busy": "2023-12-21T18:13:16.511301Z",
     "iopub.status.idle": "2023-12-21T18:14:25.635774Z",
     "shell.execute_reply": "2023-12-21T18:14:25.634500Z"
    },
    "papermill": {
     "duration": 69.134841,
     "end_time": "2023-12-21T18:14:25.638931",
     "exception": false,
     "start_time": "2023-12-21T18:13:16.504090",
     "status": "completed"
    },
    "tags": []
   },
   "outputs": [],
   "source": [
    "# sorting training data by time from datetime column\n",
    "trainingDataSortedByTime = trainingData.copy()\n",
    "def func(row):\n",
    "    timeStamp = datetime.strptime(row[datetimeColName], date_time_format)\n",
    "    return int(timeStamp.strftime(time_format))\n",
    "\n",
    "trainingDataSortedByTime[timeColName] = trainingDataSortedByTime.apply(func, axis=1)\n",
    "trainingDataSortedByTime = trainingDataSortedByTime.sort_values(timeColName)\n",
    "trainingDataSortedByTime = trainingDataSortedByTime.reset_index(drop=True)"
   ]
  },
  {
   "cell_type": "code",
   "execution_count": 5,
   "id": "613b4b0d",
   "metadata": {
    "execution": {
     "iopub.execute_input": "2023-12-21T18:14:25.653865Z",
     "iopub.status.busy": "2023-12-21T18:14:25.653076Z",
     "iopub.status.idle": "2023-12-21T18:14:52.615007Z",
     "shell.execute_reply": "2023-12-21T18:14:52.613812Z"
    },
    "papermill": {
     "duration": 26.972626,
     "end_time": "2023-12-21T18:14:52.617807",
     "exception": false,
     "start_time": "2023-12-21T18:14:25.645181",
     "status": "completed"
    },
    "tags": []
   },
   "outputs": [
    {
     "data": {
      "text/plain": [
       "<Axes: xlabel='time'>"
      ]
     },
     "execution_count": 5,
     "metadata": {},
     "output_type": "execute_result"
    },
    {
     "data": {
      "image/png": "[encoded data removed]",
      "text/plain": [
       "<Figure size 640x480 with 1 Axes>"
      ]
     },
     "metadata": {},
     "output_type": "display_data"
    }
   ],
   "source": [
    "# averages of target consumption/production for all counties across the day\n",
    "averagedData = pd.DataFrame(columns=[timeColName, 'averagedTarget'])\n",
    "\n",
    "rowIndex = 0\n",
    "while rowIndex < len(trainingDataSortedByTime):\n",
    "    timeStamp = trainingDataSortedByTime['time'][rowIndex]\n",
    "    endRowIndex = rowIndex\n",
    "    while endRowIndex < len(trainingDataSortedByTime) and trainingDataSortedByTime['time'][endRowIndex] == timeStamp:\n",
    "        endRowIndex += 1\n",
    "    average = statistics.mean(trainingDataSortedByTime['target'][rowIndex:endRowIndex])\n",
    "    newRow = [{timeColName:timeStamp, 'averagedTarget': average}]\n",
    "    averagedData = pd.concat([averagedData, pd.DataFrame(newRow)], ignore_index=True)\n",
    "    rowIndex = endRowIndex\n",
    "\n",
    "averagedData.plot(x=timeColName, y='averagedTarget', style='-')"
   ]
  },
  {
   "cell_type": "markdown",
   "id": "35c3a4a6",
   "metadata": {
    "papermill": {
     "duration": 0.006739,
     "end_time": "2023-12-21T18:14:52.631856",
     "exception": false,
     "start_time": "2023-12-21T18:14:52.625117",
     "status": "completed"
    },
    "tags": []
   },
   "source": [
    "# Summary\n",
    "## Prosumption increases during the day, peaking at midday/just after. Lowest at night particularly between midnight and 4am"
   ]
  },
  {
   "cell_type": "code",
   "execution_count": 6,
   "id": "efa8468f",
   "metadata": {
    "execution": {
     "iopub.execute_input": "2023-12-21T18:14:52.647087Z",
     "iopub.status.busy": "2023-12-21T18:14:52.646651Z",
     "iopub.status.idle": "2023-12-21T18:15:42.773207Z",
     "shell.execute_reply": "2023-12-21T18:15:42.771835Z"
    },
    "papermill": {
     "duration": 50.137774,
     "end_time": "2023-12-21T18:15:42.776347",
     "exception": false,
     "start_time": "2023-12-21T18:14:52.638573",
     "status": "completed"
    },
    "tags": []
   },
   "outputs": [],
   "source": [
    "# compare forecasted gas prices to consumption/production on that day -- \n",
    "chooseConsumption = 1\n",
    "totalConsumption = pd.DataFrame(columns=[datetimeColName, 'totalConsumption', 'averagedConsumption'])\n",
    "trainingDataConsumptionData = trainingData.copy()\n",
    "\n",
    "trainingDataConsumptionData = trainingDataConsumptionData.drop(trainingDataConsumptionData[trainingDataConsumptionData['is_consumption'] == (not chooseConsumption)].index)\n",
    "\n",
    "def func(row):\n",
    "    timeStamp = datetime.strptime(row[datetimeColName], date_time_format)\n",
    "    return timeStamp.strftime(date_format)\n",
    "\n",
    "trainingDataConsumptionData[datetimeColName] = trainingDataConsumptionData.apply(func, axis=1)\n",
    "\n",
    "trainingDataConsumptionData = trainingDataConsumptionData.sort_values(datetimeColName)\n",
    "trainingDataConsumptionData = trainingDataConsumptionData.reset_index(drop=True)\n",
    "\n",
    "rowIndex = 0\n",
    "while rowIndex < len(trainingDataConsumptionData):\n",
    "    timeStamp = trainingDataConsumptionData[datetimeColName][rowIndex]\n",
    "    endRowIndex = rowIndex\n",
    "    while endRowIndex < len(trainingDataConsumptionData) and trainingDataConsumptionData[datetimeColName][endRowIndex] == timeStamp:\n",
    "        endRowIndex += 1\n",
    "    average = statistics.mean(trainingDataConsumptionData['target'][rowIndex:endRowIndex])\n",
    "    totalCons = sum(trainingDataConsumptionData['target'][rowIndex:endRowIndex])\n",
    "    newRow = [{datetimeColName:timeStamp, 'totalConsumption': totalCons, 'averagedConsumption': average}]\n",
    "    totalConsumption = pd.concat([totalConsumption, pd.DataFrame(newRow)], ignore_index=True)\n",
    "    rowIndex = endRowIndex"
   ]
  },
  {
   "cell_type": "code",
   "execution_count": 7,
   "id": "8ab38e26",
   "metadata": {
    "execution": {
     "iopub.execute_input": "2023-12-21T18:15:42.792257Z",
     "iopub.status.busy": "2023-12-21T18:15:42.791825Z",
     "iopub.status.idle": "2023-12-21T18:15:42.841023Z",
     "shell.execute_reply": "2023-12-21T18:15:42.839971Z"
    },
    "papermill": {
     "duration": 0.060041,
     "end_time": "2023-12-21T18:15:42.843366",
     "exception": false,
     "start_time": "2023-12-21T18:15:42.783325",
     "status": "completed"
    },
    "tags": []
   },
   "outputs": [
    {
     "name": "stdout",
     "output_type": "stream",
     "text": [
      "2021-09-01 2021-09-01 2023-05-30 2023-05-30\n"
     ]
    },
    {
     "data": {
      "text/html": [
       "<div>\n",
       "<style scoped>\n",
       "    .dataframe tbody tr th:only-of-type {\n",
       "        vertical-align: middle;\n",
       "    }\n",
       "\n",
       "    .dataframe tbody tr th {\n",
       "        vertical-align: top;\n",
       "    }\n",
       "\n",
       "    .dataframe thead th {\n",
       "        text-align: right;\n",
       "    }\n",
       "</style>\n",
       "<table border=\"1\" class=\"dataframe\">\n",
       "  <thead>\n",
       "    <tr style=\"text-align: right;\">\n",
       "      <th></th>\n",
       "      <th>datetime</th>\n",
       "      <th>totalConsumption</th>\n",
       "      <th>averagedConsumption</th>\n",
       "      <th>forecast_date</th>\n",
       "      <th>lowest_price_per_mwh</th>\n",
       "      <th>highest_price_per_mwh</th>\n",
       "      <th>origin_date</th>\n",
       "      <th>data_block_id</th>\n",
       "      <th>spread</th>\n",
       "    </tr>\n",
       "  </thead>\n",
       "  <tbody>\n",
       "    <tr>\n",
       "      <th>0</th>\n",
       "      <td>2021-09-01</td>\n",
       "      <td>513929.956</td>\n",
       "      <td>351.045052</td>\n",
       "      <td>2021-09-01</td>\n",
       "      <td>45.23</td>\n",
       "      <td>46.32</td>\n",
       "      <td>2021-08-31</td>\n",
       "      <td>1</td>\n",
       "      <td>1.09</td>\n",
       "    </tr>\n",
       "    <tr>\n",
       "      <th>1</th>\n",
       "      <td>2021-09-02</td>\n",
       "      <td>518908.306</td>\n",
       "      <td>354.445564</td>\n",
       "      <td>2021-09-02</td>\n",
       "      <td>45.62</td>\n",
       "      <td>46.29</td>\n",
       "      <td>2021-09-01</td>\n",
       "      <td>2</td>\n",
       "      <td>0.67</td>\n",
       "    </tr>\n",
       "    <tr>\n",
       "      <th>2</th>\n",
       "      <td>2021-09-03</td>\n",
       "      <td>527919.770</td>\n",
       "      <td>360.600936</td>\n",
       "      <td>2021-09-03</td>\n",
       "      <td>45.85</td>\n",
       "      <td>46.40</td>\n",
       "      <td>2021-09-02</td>\n",
       "      <td>3</td>\n",
       "      <td>0.55</td>\n",
       "    </tr>\n",
       "    <tr>\n",
       "      <th>3</th>\n",
       "      <td>2021-09-04</td>\n",
       "      <td>373264.397</td>\n",
       "      <td>254.962020</td>\n",
       "      <td>2021-09-04</td>\n",
       "      <td>46.30</td>\n",
       "      <td>46.80</td>\n",
       "      <td>2021-09-03</td>\n",
       "      <td>4</td>\n",
       "      <td>0.50</td>\n",
       "    </tr>\n",
       "    <tr>\n",
       "      <th>4</th>\n",
       "      <td>2021-09-05</td>\n",
       "      <td>366969.576</td>\n",
       "      <td>250.662279</td>\n",
       "      <td>2021-09-05</td>\n",
       "      <td>46.30</td>\n",
       "      <td>46.58</td>\n",
       "      <td>2021-09-04</td>\n",
       "      <td>5</td>\n",
       "      <td>0.28</td>\n",
       "    </tr>\n",
       "    <tr>\n",
       "      <th>...</th>\n",
       "      <td>...</td>\n",
       "      <td>...</td>\n",
       "      <td>...</td>\n",
       "      <td>...</td>\n",
       "      <td>...</td>\n",
       "      <td>...</td>\n",
       "      <td>...</td>\n",
       "      <td>...</td>\n",
       "      <td>...</td>\n",
       "    </tr>\n",
       "    <tr>\n",
       "      <th>632</th>\n",
       "      <td>2023-05-26</td>\n",
       "      <td>615020.329</td>\n",
       "      <td>388.270410</td>\n",
       "      <td>2023-05-26</td>\n",
       "      <td>29.10</td>\n",
       "      <td>34.10</td>\n",
       "      <td>2023-05-25</td>\n",
       "      <td>633</td>\n",
       "      <td>5.00</td>\n",
       "    </tr>\n",
       "    <tr>\n",
       "      <th>633</th>\n",
       "      <td>2023-05-27</td>\n",
       "      <td>427683.894</td>\n",
       "      <td>270.002458</td>\n",
       "      <td>2023-05-27</td>\n",
       "      <td>28.30</td>\n",
       "      <td>34.10</td>\n",
       "      <td>2023-05-26</td>\n",
       "      <td>634</td>\n",
       "      <td>5.80</td>\n",
       "    </tr>\n",
       "    <tr>\n",
       "      <th>634</th>\n",
       "      <td>2023-05-28</td>\n",
       "      <td>415896.573</td>\n",
       "      <td>266.600367</td>\n",
       "      <td>2023-05-28</td>\n",
       "      <td>28.10</td>\n",
       "      <td>34.10</td>\n",
       "      <td>2023-05-27</td>\n",
       "      <td>635</td>\n",
       "      <td>6.00</td>\n",
       "    </tr>\n",
       "    <tr>\n",
       "      <th>635</th>\n",
       "      <td>2023-05-29</td>\n",
       "      <td>603023.774</td>\n",
       "      <td>386.553701</td>\n",
       "      <td>2023-05-29</td>\n",
       "      <td>28.16</td>\n",
       "      <td>36.98</td>\n",
       "      <td>2023-05-28</td>\n",
       "      <td>636</td>\n",
       "      <td>8.82</td>\n",
       "    </tr>\n",
       "    <tr>\n",
       "      <th>636</th>\n",
       "      <td>2023-05-30</td>\n",
       "      <td>638906.371</td>\n",
       "      <td>409.555366</td>\n",
       "      <td>2023-05-30</td>\n",
       "      <td>29.00</td>\n",
       "      <td>34.00</td>\n",
       "      <td>2023-05-29</td>\n",
       "      <td>637</td>\n",
       "      <td>5.00</td>\n",
       "    </tr>\n",
       "  </tbody>\n",
       "</table>\n",
       "<p>637 rows × 9 columns</p>\n",
       "</div>"
      ],
      "text/plain": [
       "       datetime  totalConsumption  averagedConsumption forecast_date  \\\n",
       "0    2021-09-01        513929.956           351.045052    2021-09-01   \n",
       "1    2021-09-02        518908.306           354.445564    2021-09-02   \n",
       "2    2021-09-03        527919.770           360.600936    2021-09-03   \n",
       "3    2021-09-04        373264.397           254.962020    2021-09-04   \n",
       "4    2021-09-05        366969.576           250.662279    2021-09-05   \n",
       "..          ...               ...                  ...           ...   \n",
       "632  2023-05-26        615020.329           388.270410    2023-05-26   \n",
       "633  2023-05-27        427683.894           270.002458    2023-05-27   \n",
       "634  2023-05-28        415896.573           266.600367    2023-05-28   \n",
       "635  2023-05-29        603023.774           386.553701    2023-05-29   \n",
       "636  2023-05-30        638906.371           409.555366    2023-05-30   \n",
       "\n",
       "     lowest_price_per_mwh  highest_price_per_mwh origin_date  data_block_id  \\\n",
       "0                   45.23                  46.32  2021-08-31              1   \n",
       "1                   45.62                  46.29  2021-09-01              2   \n",
       "2                   45.85                  46.40  2021-09-02              3   \n",
       "3                   46.30                  46.80  2021-09-03              4   \n",
       "4                   46.30                  46.58  2021-09-04              5   \n",
       "..                    ...                    ...         ...            ...   \n",
       "632                 29.10                  34.10  2023-05-25            633   \n",
       "633                 28.30                  34.10  2023-05-26            634   \n",
       "634                 28.10                  34.10  2023-05-27            635   \n",
       "635                 28.16                  36.98  2023-05-28            636   \n",
       "636                 29.00                  34.00  2023-05-29            637   \n",
       "\n",
       "     spread  \n",
       "0      1.09  \n",
       "1      0.67  \n",
       "2      0.55  \n",
       "3      0.50  \n",
       "4      0.28  \n",
       "..      ...  \n",
       "632    5.00  \n",
       "633    5.80  \n",
       "634    6.00  \n",
       "635    8.82  \n",
       "636    5.00  \n",
       "\n",
       "[637 rows x 9 columns]"
      ]
     },
     "execution_count": 7,
     "metadata": {},
     "output_type": "execute_result"
    }
   ],
   "source": [
    "print(gasPriceData['forecast_date'][0], totalConsumption['datetime'][0],gasPriceData['forecast_date'][len(gasPriceData)-1], totalConsumption['datetime'][len(totalConsumption)-2])\n",
    "gasPriceData['datetime'] = gasPriceData.loc[:, 'forecast_date']\n",
    "combinedData = totalConsumption.merge(gasPriceData,on='datetime')\n",
    "# add the spread between lowest and highest price per mwh\n",
    "combinedData['spread'] = combinedData['highest_price_per_mwh']-combinedData['lowest_price_per_mwh']\n",
    "combinedData\n"
   ]
  },
  {
   "cell_type": "code",
   "execution_count": 8,
   "id": "e47edd12",
   "metadata": {
    "execution": {
     "iopub.execute_input": "2023-12-21T18:15:42.859657Z",
     "iopub.status.busy": "2023-12-21T18:15:42.859129Z",
     "iopub.status.idle": "2023-12-21T18:15:47.380543Z",
     "shell.execute_reply": "2023-12-21T18:15:47.379487Z"
    },
    "papermill": {
     "duration": 4.532442,
     "end_time": "2023-12-21T18:15:47.382980",
     "exception": false,
     "start_time": "2023-12-21T18:15:42.850538",
     "status": "completed"
    },
    "tags": []
   },
   "outputs": [
    {
     "data": {
      "image/png": "[encoded data removed]",
      "text/plain": [
       "<Figure size 640x480 with 1 Axes>"
      ]
     },
     "metadata": {},
     "output_type": "display_data"
    }
   ],
   "source": [
    "combinedData = combinedData.dropna()\n",
    "plt.plot(combinedData['datetime'],preprocessing.normalize([combinedData['averagedConsumption']])[0], label = \"averagedConsumption\") \n",
    "plt.plot(combinedData['datetime'],preprocessing.normalize([combinedData['lowest_price_per_mwh']])[0], label = \"lowest_price_per_mwh\")\n",
    "plt.plot(combinedData['datetime'],preprocessing.normalize([combinedData['highest_price_per_mwh']])[0], label = \"highest_price_per_mwh\")\n",
    "plt.plot(combinedData['datetime'],preprocessing.normalize([combinedData['spread']])[0], label = \"spread\", alpha=0.1)\n",
    "plt.legend(loc='best')\n",
    "plt.show()"
   ]
  },
  {
   "cell_type": "code",
   "execution_count": 9,
   "id": "f4fe423c",
   "metadata": {
    "execution": {
     "iopub.execute_input": "2023-12-21T18:15:47.403638Z",
     "iopub.status.busy": "2023-12-21T18:15:47.402805Z",
     "iopub.status.idle": "2023-12-21T18:15:47.411688Z",
     "shell.execute_reply": "2023-12-21T18:15:47.410800Z"
    },
    "papermill": {
     "duration": 0.021727,
     "end_time": "2023-12-21T18:15:47.413938",
     "exception": false,
     "start_time": "2023-12-21T18:15:47.392211",
     "status": "completed"
    },
    "tags": []
   },
   "outputs": [
    {
     "name": "stdout",
     "output_type": "stream",
     "text": [
      "-0.21522508531128107\n",
      "-0.2547752979876287\n",
      "-0.17852694916121845\n",
      "-0.22138039743995128\n"
     ]
    }
   ],
   "source": [
    "# correlation coefficient between gas price and consumption\n",
    "print(combinedData['highest_price_per_mwh'].corr(combinedData['averagedConsumption']))\n",
    "print(combinedData['lowest_price_per_mwh'].corr(combinedData['averagedConsumption']))\n",
    "print(combinedData['highest_price_per_mwh'].corr(combinedData['totalConsumption']))\n",
    "print(combinedData['lowest_price_per_mwh'].corr(combinedData['totalConsumption']))\n"
   ]
  },
  {
   "cell_type": "markdown",
   "id": "da21a549",
   "metadata": {
    "papermill": {
     "duration": 0.008432,
     "end_time": "2023-12-21T18:15:47.431402",
     "exception": false,
     "start_time": "2023-12-21T18:15:47.422970",
     "status": "completed"
    },
    "tags": []
   },
   "source": [
    "# Summary:\n",
    "## Weak negative correlation between forecasted gas prices and consumption. No correlation between forecasted gas prices and production."
   ]
  },
  {
   "cell_type": "code",
   "execution_count": 10,
   "id": "a6038179",
   "metadata": {
    "execution": {
     "iopub.execute_input": "2023-12-21T18:15:47.450935Z",
     "iopub.status.busy": "2023-12-21T18:15:47.450325Z",
     "iopub.status.idle": "2023-12-21T18:16:19.994386Z",
     "shell.execute_reply": "2023-12-21T18:16:19.993125Z"
    },
    "papermill": {
     "duration": 32.557252,
     "end_time": "2023-12-21T18:16:19.997372",
     "exception": false,
     "start_time": "2023-12-21T18:15:47.440120",
     "status": "completed"
    },
    "tags": []
   },
   "outputs": [],
   "source": [
    "# compare forecasted electricity prices to consumption/production at that time on that day -- \n",
    "chooseConsumption = 1\n",
    "totalConsumption_hour = pd.DataFrame(columns=[datetimeColName, 'totalConsumption', 'averagedConsumption'])\n",
    "trainingDataConsumptionData_hour = trainingData.copy()\n",
    "\n",
    "trainingDataConsumptionData_hour = trainingDataConsumptionData_hour.drop(trainingDataConsumptionData_hour[trainingDataConsumptionData_hour['is_consumption'] == (not chooseConsumption)].index)\n",
    "\n",
    "trainingDataConsumptionData_hour = trainingDataConsumptionData_hour.sort_values(datetimeColName)\n",
    "trainingDataConsumptionData_hour = trainingDataConsumptionData_hour.reset_index(drop=True)\n",
    "\n",
    "rowIndex = 0\n",
    "while rowIndex < len(trainingDataConsumptionData_hour):\n",
    "    timeStamp = trainingDataConsumptionData_hour[datetimeColName][rowIndex]\n",
    "    endRowIndex = rowIndex\n",
    "    while endRowIndex < len(trainingDataConsumptionData_hour) and trainingDataConsumptionData_hour[datetimeColName][endRowIndex] == timeStamp:\n",
    "        endRowIndex += 1\n",
    "    average = statistics.mean(trainingDataConsumptionData_hour['target'][rowIndex:endRowIndex])\n",
    "    totalCons = sum(trainingDataConsumptionData_hour['target'][rowIndex:endRowIndex])\n",
    "    newRow = [{datetimeColName:timeStamp, 'totalConsumption': totalCons, 'averagedConsumption': average}]\n",
    "    totalConsumption_hour = pd.concat([totalConsumption_hour, pd.DataFrame(newRow)], ignore_index=True)\n",
    "    rowIndex = endRowIndex"
   ]
  },
  {
   "cell_type": "code",
   "execution_count": 11,
   "id": "9c050cfa",
   "metadata": {
    "execution": {
     "iopub.execute_input": "2023-12-21T18:16:20.016961Z",
     "iopub.status.busy": "2023-12-21T18:16:20.016556Z",
     "iopub.status.idle": "2023-12-21T18:16:20.057334Z",
     "shell.execute_reply": "2023-12-21T18:16:20.056101Z"
    },
    "papermill": {
     "duration": 0.053516,
     "end_time": "2023-12-21T18:16:20.059971",
     "exception": false,
     "start_time": "2023-12-21T18:16:20.006455",
     "status": "completed"
    },
    "tags": []
   },
   "outputs": [
    {
     "name": "stdout",
     "output_type": "stream",
     "text": [
      "2021-09-01 00:00:00 2021-09-01 00:00:00 2023-05-30 23:00:00 2023-05-31 22:00:00\n"
     ]
    },
    {
     "data": {
      "text/html": [
       "<div>\n",
       "<style scoped>\n",
       "    .dataframe tbody tr th:only-of-type {\n",
       "        vertical-align: middle;\n",
       "    }\n",
       "\n",
       "    .dataframe tbody tr th {\n",
       "        vertical-align: top;\n",
       "    }\n",
       "\n",
       "    .dataframe thead th {\n",
       "        text-align: right;\n",
       "    }\n",
       "</style>\n",
       "<table border=\"1\" class=\"dataframe\">\n",
       "  <thead>\n",
       "    <tr style=\"text-align: right;\">\n",
       "      <th></th>\n",
       "      <th>datetime</th>\n",
       "      <th>totalConsumption</th>\n",
       "      <th>averagedConsumption</th>\n",
       "      <th>forecast_date</th>\n",
       "      <th>euros_per_mwh</th>\n",
       "      <th>origin_date</th>\n",
       "      <th>data_block_id</th>\n",
       "    </tr>\n",
       "  </thead>\n",
       "  <tbody>\n",
       "    <tr>\n",
       "      <th>0</th>\n",
       "      <td>2021-09-01 00:00:00</td>\n",
       "      <td>19859.808</td>\n",
       "      <td>325.570623</td>\n",
       "      <td>2021-09-01 00:00:00</td>\n",
       "      <td>92.51</td>\n",
       "      <td>2021-08-31 00:00:00</td>\n",
       "      <td>1</td>\n",
       "    </tr>\n",
       "    <tr>\n",
       "      <th>1</th>\n",
       "      <td>2021-09-01 01:00:00</td>\n",
       "      <td>19265.078</td>\n",
       "      <td>315.820951</td>\n",
       "      <td>2021-09-01 01:00:00</td>\n",
       "      <td>88.90</td>\n",
       "      <td>2021-08-31 01:00:00</td>\n",
       "      <td>1</td>\n",
       "    </tr>\n",
       "    <tr>\n",
       "      <th>2</th>\n",
       "      <td>2021-09-01 02:00:00</td>\n",
       "      <td>19260.892</td>\n",
       "      <td>315.752328</td>\n",
       "      <td>2021-09-01 02:00:00</td>\n",
       "      <td>87.35</td>\n",
       "      <td>2021-08-31 02:00:00</td>\n",
       "      <td>1</td>\n",
       "    </tr>\n",
       "    <tr>\n",
       "      <th>3</th>\n",
       "      <td>2021-09-01 03:00:00</td>\n",
       "      <td>19026.484</td>\n",
       "      <td>311.909574</td>\n",
       "      <td>2021-09-01 03:00:00</td>\n",
       "      <td>86.88</td>\n",
       "      <td>2021-08-31 03:00:00</td>\n",
       "      <td>1</td>\n",
       "    </tr>\n",
       "    <tr>\n",
       "      <th>4</th>\n",
       "      <td>2021-09-01 04:00:00</td>\n",
       "      <td>19367.124</td>\n",
       "      <td>317.493836</td>\n",
       "      <td>2021-09-01 04:00:00</td>\n",
       "      <td>88.43</td>\n",
       "      <td>2021-08-31 04:00:00</td>\n",
       "      <td>1</td>\n",
       "    </tr>\n",
       "    <tr>\n",
       "      <th>...</th>\n",
       "      <td>...</td>\n",
       "      <td>...</td>\n",
       "      <td>...</td>\n",
       "      <td>...</td>\n",
       "      <td>...</td>\n",
       "      <td>...</td>\n",
       "      <td>...</td>\n",
       "    </tr>\n",
       "    <tr>\n",
       "      <th>15281</th>\n",
       "      <td>2023-05-30 19:00:00</td>\n",
       "      <td>28250.057</td>\n",
       "      <td>434.616262</td>\n",
       "      <td>2023-05-30 19:00:00</td>\n",
       "      <td>82.10</td>\n",
       "      <td>2023-05-29 19:00:00</td>\n",
       "      <td>637</td>\n",
       "    </tr>\n",
       "    <tr>\n",
       "      <th>15282</th>\n",
       "      <td>2023-05-30 20:00:00</td>\n",
       "      <td>31242.566</td>\n",
       "      <td>480.654862</td>\n",
       "      <td>2023-05-30 20:00:00</td>\n",
       "      <td>150.85</td>\n",
       "      <td>2023-05-29 20:00:00</td>\n",
       "      <td>637</td>\n",
       "    </tr>\n",
       "    <tr>\n",
       "      <th>15283</th>\n",
       "      <td>2023-05-30 21:00:00</td>\n",
       "      <td>31889.139</td>\n",
       "      <td>490.602138</td>\n",
       "      <td>2023-05-30 21:00:00</td>\n",
       "      <td>82.10</td>\n",
       "      <td>2023-05-29 21:00:00</td>\n",
       "      <td>637</td>\n",
       "    </tr>\n",
       "    <tr>\n",
       "      <th>15284</th>\n",
       "      <td>2023-05-30 22:00:00</td>\n",
       "      <td>32268.265</td>\n",
       "      <td>496.434846</td>\n",
       "      <td>2023-05-30 22:00:00</td>\n",
       "      <td>82.09</td>\n",
       "      <td>2023-05-29 22:00:00</td>\n",
       "      <td>637</td>\n",
       "    </tr>\n",
       "    <tr>\n",
       "      <th>15285</th>\n",
       "      <td>2023-05-30 23:00:00</td>\n",
       "      <td>29637.089</td>\n",
       "      <td>455.955215</td>\n",
       "      <td>2023-05-30 23:00:00</td>\n",
       "      <td>-1.29</td>\n",
       "      <td>2023-05-29 23:00:00</td>\n",
       "      <td>637</td>\n",
       "    </tr>\n",
       "  </tbody>\n",
       "</table>\n",
       "<p>15286 rows × 7 columns</p>\n",
       "</div>"
      ],
      "text/plain": [
       "                  datetime  totalConsumption  averagedConsumption  \\\n",
       "0      2021-09-01 00:00:00         19859.808           325.570623   \n",
       "1      2021-09-01 01:00:00         19265.078           315.820951   \n",
       "2      2021-09-01 02:00:00         19260.892           315.752328   \n",
       "3      2021-09-01 03:00:00         19026.484           311.909574   \n",
       "4      2021-09-01 04:00:00         19367.124           317.493836   \n",
       "...                    ...               ...                  ...   \n",
       "15281  2023-05-30 19:00:00         28250.057           434.616262   \n",
       "15282  2023-05-30 20:00:00         31242.566           480.654862   \n",
       "15283  2023-05-30 21:00:00         31889.139           490.602138   \n",
       "15284  2023-05-30 22:00:00         32268.265           496.434846   \n",
       "15285  2023-05-30 23:00:00         29637.089           455.955215   \n",
       "\n",
       "             forecast_date  euros_per_mwh          origin_date  data_block_id  \n",
       "0      2021-09-01 00:00:00          92.51  2021-08-31 00:00:00              1  \n",
       "1      2021-09-01 01:00:00          88.90  2021-08-31 01:00:00              1  \n",
       "2      2021-09-01 02:00:00          87.35  2021-08-31 02:00:00              1  \n",
       "3      2021-09-01 03:00:00          86.88  2021-08-31 03:00:00              1  \n",
       "4      2021-09-01 04:00:00          88.43  2021-08-31 04:00:00              1  \n",
       "...                    ...            ...                  ...            ...  \n",
       "15281  2023-05-30 19:00:00          82.10  2023-05-29 19:00:00            637  \n",
       "15282  2023-05-30 20:00:00         150.85  2023-05-29 20:00:00            637  \n",
       "15283  2023-05-30 21:00:00          82.10  2023-05-29 21:00:00            637  \n",
       "15284  2023-05-30 22:00:00          82.09  2023-05-29 22:00:00            637  \n",
       "15285  2023-05-30 23:00:00          -1.29  2023-05-29 23:00:00            637  \n",
       "\n",
       "[15286 rows x 7 columns]"
      ]
     },
     "execution_count": 11,
     "metadata": {},
     "output_type": "execute_result"
    }
   ],
   "source": [
    "print(elecPriceData['forecast_date'][0], totalConsumption_hour['datetime'][0],elecPriceData['forecast_date'][len(elecPriceData)-1], totalConsumption_hour['datetime'][len(totalConsumption_hour)-2])\n",
    "elecPriceData['datetime'] = elecPriceData.loc[:, 'forecast_date']\n",
    "combinedData_elec_hour = totalConsumption_hour.merge(elecPriceData,on='datetime')\n",
    "combinedData_elec_hour"
   ]
  },
  {
   "cell_type": "code",
   "execution_count": 12,
   "id": "8c39f701",
   "metadata": {
    "execution": {
     "iopub.execute_input": "2023-12-21T18:16:20.080453Z",
     "iopub.status.busy": "2023-12-21T18:16:20.079598Z",
     "iopub.status.idle": "2023-12-21T18:16:20.116638Z",
     "shell.execute_reply": "2023-12-21T18:16:20.115396Z"
    },
    "papermill": {
     "duration": 0.050013,
     "end_time": "2023-12-21T18:16:20.119153",
     "exception": false,
     "start_time": "2023-12-21T18:16:20.069140",
     "status": "completed"
    },
    "tags": []
   },
   "outputs": [
    {
     "name": "stderr",
     "output_type": "stream",
     "text": [
      "/tmp/ipykernel_19/158600603.py:2: SettingWithCopyWarning: \n",
      "A value is trying to be set on a copy of a slice from a DataFrame.\n",
      "Try using .loc[row_indexer,col_indexer] = value instead\n",
      "\n",
      "See the caveats in the documentation: https://pandas.pydata.org/pandas-docs/stable/user_guide/indexing.html#returning-a-view-versus-a-copy\n",
      "  combinedData_elec_hour['averagedConsumption_normalised'] = preprocessing.normalize([combinedData_elec_hour['averagedConsumption']])[0]\n",
      "/tmp/ipykernel_19/158600603.py:3: SettingWithCopyWarning: \n",
      "A value is trying to be set on a copy of a slice from a DataFrame.\n",
      "Try using .loc[row_indexer,col_indexer] = value instead\n",
      "\n",
      "See the caveats in the documentation: https://pandas.pydata.org/pandas-docs/stable/user_guide/indexing.html#returning-a-view-versus-a-copy\n",
      "  combinedData_elec_hour['euros_per_mwh_normalised'] = preprocessing.normalize([combinedData_elec_hour['euros_per_mwh']])[0]\n"
     ]
    },
    {
     "data": {
      "text/html": [
       "<div>\n",
       "<style scoped>\n",
       "    .dataframe tbody tr th:only-of-type {\n",
       "        vertical-align: middle;\n",
       "    }\n",
       "\n",
       "    .dataframe tbody tr th {\n",
       "        vertical-align: top;\n",
       "    }\n",
       "\n",
       "    .dataframe thead th {\n",
       "        text-align: right;\n",
       "    }\n",
       "</style>\n",
       "<table border=\"1\" class=\"dataframe\">\n",
       "  <thead>\n",
       "    <tr style=\"text-align: right;\">\n",
       "      <th></th>\n",
       "      <th>datetime</th>\n",
       "      <th>totalConsumption</th>\n",
       "      <th>averagedConsumption</th>\n",
       "      <th>forecast_date</th>\n",
       "      <th>euros_per_mwh</th>\n",
       "      <th>origin_date</th>\n",
       "      <th>data_block_id</th>\n",
       "      <th>averagedConsumption_normalised</th>\n",
       "      <th>euros_per_mwh_normalised</th>\n",
       "    </tr>\n",
       "  </thead>\n",
       "  <tbody>\n",
       "    <tr>\n",
       "      <th>0</th>\n",
       "      <td>2021-09-01 00:00:00</td>\n",
       "      <td>19859.808</td>\n",
       "      <td>325.570623</td>\n",
       "      <td>2021-09-01 00:00:00</td>\n",
       "      <td>92.51</td>\n",
       "      <td>2021-08-31 00:00:00</td>\n",
       "      <td>1</td>\n",
       "      <td>0.005445</td>\n",
       "      <td>0.003772</td>\n",
       "    </tr>\n",
       "    <tr>\n",
       "      <th>1</th>\n",
       "      <td>2021-09-01 01:00:00</td>\n",
       "      <td>19265.078</td>\n",
       "      <td>315.820951</td>\n",
       "      <td>2021-09-01 01:00:00</td>\n",
       "      <td>88.90</td>\n",
       "      <td>2021-08-31 01:00:00</td>\n",
       "      <td>1</td>\n",
       "      <td>0.005282</td>\n",
       "      <td>0.003625</td>\n",
       "    </tr>\n",
       "    <tr>\n",
       "      <th>2</th>\n",
       "      <td>2021-09-01 02:00:00</td>\n",
       "      <td>19260.892</td>\n",
       "      <td>315.752328</td>\n",
       "      <td>2021-09-01 02:00:00</td>\n",
       "      <td>87.35</td>\n",
       "      <td>2021-08-31 02:00:00</td>\n",
       "      <td>1</td>\n",
       "      <td>0.005281</td>\n",
       "      <td>0.003562</td>\n",
       "    </tr>\n",
       "    <tr>\n",
       "      <th>3</th>\n",
       "      <td>2021-09-01 03:00:00</td>\n",
       "      <td>19026.484</td>\n",
       "      <td>311.909574</td>\n",
       "      <td>2021-09-01 03:00:00</td>\n",
       "      <td>86.88</td>\n",
       "      <td>2021-08-31 03:00:00</td>\n",
       "      <td>1</td>\n",
       "      <td>0.005217</td>\n",
       "      <td>0.003543</td>\n",
       "    </tr>\n",
       "    <tr>\n",
       "      <th>4</th>\n",
       "      <td>2021-09-01 04:00:00</td>\n",
       "      <td>19367.124</td>\n",
       "      <td>317.493836</td>\n",
       "      <td>2021-09-01 04:00:00</td>\n",
       "      <td>88.43</td>\n",
       "      <td>2021-08-31 04:00:00</td>\n",
       "      <td>1</td>\n",
       "      <td>0.005310</td>\n",
       "      <td>0.003606</td>\n",
       "    </tr>\n",
       "    <tr>\n",
       "      <th>...</th>\n",
       "      <td>...</td>\n",
       "      <td>...</td>\n",
       "      <td>...</td>\n",
       "      <td>...</td>\n",
       "      <td>...</td>\n",
       "      <td>...</td>\n",
       "      <td>...</td>\n",
       "      <td>...</td>\n",
       "      <td>...</td>\n",
       "    </tr>\n",
       "    <tr>\n",
       "      <th>15281</th>\n",
       "      <td>2023-05-30 19:00:00</td>\n",
       "      <td>28250.057</td>\n",
       "      <td>434.616262</td>\n",
       "      <td>2023-05-30 19:00:00</td>\n",
       "      <td>82.10</td>\n",
       "      <td>2023-05-29 19:00:00</td>\n",
       "      <td>637</td>\n",
       "      <td>0.007269</td>\n",
       "      <td>0.003348</td>\n",
       "    </tr>\n",
       "    <tr>\n",
       "      <th>15282</th>\n",
       "      <td>2023-05-30 20:00:00</td>\n",
       "      <td>31242.566</td>\n",
       "      <td>480.654862</td>\n",
       "      <td>2023-05-30 20:00:00</td>\n",
       "      <td>150.85</td>\n",
       "      <td>2023-05-29 20:00:00</td>\n",
       "      <td>637</td>\n",
       "      <td>0.008039</td>\n",
       "      <td>0.006151</td>\n",
       "    </tr>\n",
       "    <tr>\n",
       "      <th>15283</th>\n",
       "      <td>2023-05-30 21:00:00</td>\n",
       "      <td>31889.139</td>\n",
       "      <td>490.602138</td>\n",
       "      <td>2023-05-30 21:00:00</td>\n",
       "      <td>82.10</td>\n",
       "      <td>2023-05-29 21:00:00</td>\n",
       "      <td>637</td>\n",
       "      <td>0.008206</td>\n",
       "      <td>0.003348</td>\n",
       "    </tr>\n",
       "    <tr>\n",
       "      <th>15284</th>\n",
       "      <td>2023-05-30 22:00:00</td>\n",
       "      <td>32268.265</td>\n",
       "      <td>496.434846</td>\n",
       "      <td>2023-05-30 22:00:00</td>\n",
       "      <td>82.09</td>\n",
       "      <td>2023-05-29 22:00:00</td>\n",
       "      <td>637</td>\n",
       "      <td>0.008303</td>\n",
       "      <td>0.003347</td>\n",
       "    </tr>\n",
       "    <tr>\n",
       "      <th>15285</th>\n",
       "      <td>2023-05-30 23:00:00</td>\n",
       "      <td>29637.089</td>\n",
       "      <td>455.955215</td>\n",
       "      <td>2023-05-30 23:00:00</td>\n",
       "      <td>-1.29</td>\n",
       "      <td>2023-05-29 23:00:00</td>\n",
       "      <td>637</td>\n",
       "      <td>0.007626</td>\n",
       "      <td>-0.000053</td>\n",
       "    </tr>\n",
       "  </tbody>\n",
       "</table>\n",
       "<p>15282 rows × 9 columns</p>\n",
       "</div>"
      ],
      "text/plain": [
       "                  datetime  totalConsumption  averagedConsumption  \\\n",
       "0      2021-09-01 00:00:00         19859.808           325.570623   \n",
       "1      2021-09-01 01:00:00         19265.078           315.820951   \n",
       "2      2021-09-01 02:00:00         19260.892           315.752328   \n",
       "3      2021-09-01 03:00:00         19026.484           311.909574   \n",
       "4      2021-09-01 04:00:00         19367.124           317.493836   \n",
       "...                    ...               ...                  ...   \n",
       "15281  2023-05-30 19:00:00         28250.057           434.616262   \n",
       "15282  2023-05-30 20:00:00         31242.566           480.654862   \n",
       "15283  2023-05-30 21:00:00         31889.139           490.602138   \n",
       "15284  2023-05-30 22:00:00         32268.265           496.434846   \n",
       "15285  2023-05-30 23:00:00         29637.089           455.955215   \n",
       "\n",
       "             forecast_date  euros_per_mwh          origin_date  data_block_id  \\\n",
       "0      2021-09-01 00:00:00          92.51  2021-08-31 00:00:00              1   \n",
       "1      2021-09-01 01:00:00          88.90  2021-08-31 01:00:00              1   \n",
       "2      2021-09-01 02:00:00          87.35  2021-08-31 02:00:00              1   \n",
       "3      2021-09-01 03:00:00          86.88  2021-08-31 03:00:00              1   \n",
       "4      2021-09-01 04:00:00          88.43  2021-08-31 04:00:00              1   \n",
       "...                    ...            ...                  ...            ...   \n",
       "15281  2023-05-30 19:00:00          82.10  2023-05-29 19:00:00            637   \n",
       "15282  2023-05-30 20:00:00         150.85  2023-05-29 20:00:00            637   \n",
       "15283  2023-05-30 21:00:00          82.10  2023-05-29 21:00:00            637   \n",
       "15284  2023-05-30 22:00:00          82.09  2023-05-29 22:00:00            637   \n",
       "15285  2023-05-30 23:00:00          -1.29  2023-05-29 23:00:00            637   \n",
       "\n",
       "       averagedConsumption_normalised  euros_per_mwh_normalised  \n",
       "0                            0.005445                  0.003772  \n",
       "1                            0.005282                  0.003625  \n",
       "2                            0.005281                  0.003562  \n",
       "3                            0.005217                  0.003543  \n",
       "4                            0.005310                  0.003606  \n",
       "...                               ...                       ...  \n",
       "15281                        0.007269                  0.003348  \n",
       "15282                        0.008039                  0.006151  \n",
       "15283                        0.008206                  0.003348  \n",
       "15284                        0.008303                  0.003347  \n",
       "15285                        0.007626                 -0.000053  \n",
       "\n",
       "[15282 rows x 9 columns]"
      ]
     },
     "execution_count": 12,
     "metadata": {},
     "output_type": "execute_result"
    }
   ],
   "source": [
    "combinedData_elec_hour = combinedData_elec_hour.dropna()\n",
    "combinedData_elec_hour['averagedConsumption_normalised'] = preprocessing.normalize([combinedData_elec_hour['averagedConsumption']])[0]\n",
    "combinedData_elec_hour['euros_per_mwh_normalised'] = preprocessing.normalize([combinedData_elec_hour['euros_per_mwh']])[0]\n",
    "combinedData_elec_hour"
   ]
  },
  {
   "cell_type": "code",
   "execution_count": 13,
   "id": "a969f668",
   "metadata": {
    "execution": {
     "iopub.execute_input": "2023-12-21T18:16:20.141016Z",
     "iopub.status.busy": "2023-12-21T18:16:20.139985Z",
     "iopub.status.idle": "2023-12-21T18:19:26.367783Z",
     "shell.execute_reply": "2023-12-21T18:19:26.366514Z"
    },
    "papermill": {
     "duration": 186.253298,
     "end_time": "2023-12-21T18:19:26.382210",
     "exception": false,
     "start_time": "2023-12-21T18:16:20.128912",
     "status": "completed"
    },
    "tags": []
   },
   "outputs": [
    {
     "data": {
      "image/png": "[encoded data removed]",
      "text/plain": [
       "<Figure size 640x480 with 1 Axes>"
      ]
     },
     "metadata": {},
     "output_type": "display_data"
    }
   ],
   "source": [
    "plt.plot(combinedData_elec_hour['datetime'],combinedData_elec_hour['averagedConsumption_normalised'], label = \"averagedConsumption\") \n",
    "plt.plot(combinedData_elec_hour['datetime'],combinedData_elec_hour['euros_per_mwh_normalised'], label = \"euros_per_mwh\")\n",
    "plt.legend(loc='best')\n",
    "plt.show()"
   ]
  },
  {
   "cell_type": "code",
   "execution_count": 14,
   "id": "dd9ed6b5",
   "metadata": {
    "execution": {
     "iopub.execute_input": "2023-12-21T18:19:26.405438Z",
     "iopub.status.busy": "2023-12-21T18:19:26.405021Z",
     "iopub.status.idle": "2023-12-21T18:19:26.411650Z",
     "shell.execute_reply": "2023-12-21T18:19:26.410664Z"
    },
    "papermill": {
     "duration": 0.021251,
     "end_time": "2023-12-21T18:19:26.413943",
     "exception": false,
     "start_time": "2023-12-21T18:19:26.392692",
     "status": "completed"
    },
    "tags": []
   },
   "outputs": [
    {
     "name": "stdout",
     "output_type": "stream",
     "text": [
      "0.21090358103322326\n"
     ]
    }
   ],
   "source": [
    "# correlation coefficient between gas price and consumption\n",
    "print(combinedData_elec_hour['euros_per_mwh_normalised'].corr(combinedData_elec_hour['averagedConsumption_normalised']))"
   ]
  },
  {
   "cell_type": "markdown",
   "id": "dc820ec2",
   "metadata": {
    "papermill": {
     "duration": 0.010604,
     "end_time": "2023-12-21T18:19:26.435807",
     "exception": false,
     "start_time": "2023-12-21T18:19:26.425203",
     "status": "completed"
    },
    "tags": []
   },
   "source": [
    "# Summary:\n",
    "## Weak negative correlation between forecasted electricity prices and consumption. No correlation between forecasted electricity prices and production."
   ]
  }
 ],
 "metadata": {
  "kaggle": {
   "accelerator": "none",
   "dataSources": [
    {
     "databundleVersionId": 7292407,
     "sourceId": 57236,
     "sourceType": "competition"
    }
   ],
   "dockerImageVersionId": 30626,
   "isGpuEnabled": false,
   "isInternetEnabled": false,
   "language": "python",
   "sourceType": "notebook"
  },
  "kernelspec": {
   "display_name": "Python 3",
   "language": "python",
   "name": "python3"
  },
  "language_info": {
   "codemirror_mode": {
    "name": "ipython",
    "version": 3
   },
   "file_extension": ".py",
   "mimetype": "text/x-python",
   "name": "python",
   "nbconvert_exporter": "python",
   "pygments_lexer": "ipython3",
   "version": "3.10.12"
  },
  "papermill": {
   "default_parameters": {},
   "duration": 405.26987,
   "end_time": "2023-12-21T18:19:28.575809",
   "environment_variables": {},
   "exception": null,
   "input_path": "__notebook__.ipynb",
   "output_path": "__notebook__.ipynb",
   "parameters": {},
   "start_time": "2023-12-21T18:12:43.305939",
   "version": "2.4.0"
  }
 },
 "nbformat": 4,
 "nbformat_minor": 5
}
