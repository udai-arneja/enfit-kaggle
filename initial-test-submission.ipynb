{
 "cells": [
  {
   "cell_type": "code",
   "execution_count": 1,
   "id": "2bf1b67f",
   "metadata": {
    "execution": {
     "iopub.execute_input": "2023-12-17T17:49:53.213736Z",
     "iopub.status.busy": "2023-12-17T17:49:53.213385Z",
     "iopub.status.idle": "2023-12-17T17:49:53.591640Z",
     "shell.execute_reply": "2023-12-17T17:49:53.590767Z"
    },
    "papermill": {
     "duration": 0.384471,
     "end_time": "2023-12-17T17:49:53.594024",
     "exception": false,
     "start_time": "2023-12-17T17:49:53.209553",
     "status": "completed"
    },
    "tags": []
   },
   "outputs": [],
   "source": [
    "import enefit"
   ]
  },
  {
   "cell_type": "code",
   "execution_count": 2,
   "id": "bc7e2f6f",
   "metadata": {
    "execution": {
     "iopub.execute_input": "2023-12-17T17:49:53.599343Z",
     "iopub.status.busy": "2023-12-17T17:49:53.598872Z",
     "iopub.status.idle": "2023-12-17T17:49:53.604449Z",
     "shell.execute_reply": "2023-12-17T17:49:53.603690Z"
    },
    "papermill": {
     "duration": 0.010183,
     "end_time": "2023-12-17T17:49:53.606322",
     "exception": false,
     "start_time": "2023-12-17T17:49:53.596139",
     "status": "completed"
    },
    "tags": []
   },
   "outputs": [],
   "source": [
    "env = enefit.make_env()"
   ]
  },
  {
   "cell_type": "code",
   "execution_count": 3,
   "id": "294b51e4",
   "metadata": {
    "execution": {
     "iopub.execute_input": "2023-12-17T17:49:53.610973Z",
     "iopub.status.busy": "2023-12-17T17:49:53.610651Z",
     "iopub.status.idle": "2023-12-17T17:49:53.922437Z",
     "shell.execute_reply": "2023-12-17T17:49:53.921626Z"
    },
    "papermill": {
     "duration": 0.316989,
     "end_time": "2023-12-17T17:49:53.925089",
     "exception": false,
     "start_time": "2023-12-17T17:49:53.608100",
     "status": "completed"
    },
    "tags": []
   },
   "outputs": [
    {
     "name": "stdout",
     "output_type": "stream",
     "text": [
      "This version of the API is not optimized and should not be used to estimate the runtime of your code on the hidden test set.\n"
     ]
    }
   ],
   "source": [
    "iter_test = env.iter_test()\n",
    "\n",
    "for (test, revealed_targets, client, historical_weather,\n",
    "        forecast_weather, electricity_prices, gas_prices, sample_prediction) in iter_test:\n",
    "    sample_prediction[\"target\"] = 0\n",
    "    \n",
    "    env.predict(sample_prediction)"
   ]
  }
 ],
 "metadata": {
  "kaggle": {
   "accelerator": "none",
   "dataSources": [
    {
     "databundleVersionId": 7292407,
     "sourceId": 57236,
     "sourceType": "competition"
    }
   ],
   "dockerImageVersionId": 30626,
   "isGpuEnabled": false,
   "isInternetEnabled": true,
   "language": "python",
   "sourceType": "notebook"
  },
  "kernelspec": {
   "display_name": "Python 3",
   "language": "python",
   "name": "python3"
  },
  "language_info": {
   "codemirror_mode": {
    "name": "ipython",
    "version": 3
   },
   "file_extension": ".py",
   "mimetype": "text/x-python",
   "name": "python",
   "nbconvert_exporter": "python",
   "pygments_lexer": "ipython3",
   "version": "3.10.12"
  },
  "papermill": {
   "default_parameters": {},
   "duration": 4.025182,
   "end_time": "2023-12-17T17:49:54.348338",
   "environment_variables": {},
   "exception": null,
   "input_path": "__notebook__.ipynb",
   "output_path": "__notebook__.ipynb",
   "parameters": {},
   "start_time": "2023-12-17T17:49:50.323156",
   "version": "2.4.0"
  }
 },
 "nbformat": 4,
 "nbformat_minor": 5
}
